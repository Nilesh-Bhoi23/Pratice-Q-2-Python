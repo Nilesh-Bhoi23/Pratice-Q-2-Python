{
 "cells": [
  {
   "cell_type": "code",
   "execution_count": null,
   "id": "8106a67d-1694-4c27-b1a2-6bb109bb5e79",
   "metadata": {},
   "outputs": [],
   "source": [
    "# 1. *Sum and Average:*\n",
    "#    - Write a program that takes a list of numbers as input and calculates their sum and average.\n",
    "\n",
    "# 2. *Find Maximum and Minimum:*\n",
    "#    - Create a program that prompts the user for a list of numbers and then finds the maximum and minimum values in the list.\n",
    "\n",
    "# 3. *Element Frequency:*\n",
    "#    - Write a program that takes a list of words as input and counts the frequency of each word in a dictionary.\n",
    "\n",
    "# 4. *List Reversal:*\n",
    "#    - Implement a program that reverses the elements of a given list and prints the reversed list.\n",
    "\n",
    "# 5. *Merge Lists:*\n",
    "#    - Create a program that takes two lists as input and merges them into a single list.\n",
    "\n",
    "# 6. *Common Elements:*\n",
    "#    - Write a program that finds and prints the common elements between two lists.\n",
    "\n",
    "# 7. *Dictionary Creation:*\n",
    "#    - Implement a program that takes two lists, one for keys and one for values, and creates a dictionary.\n",
    "\n",
    "# 8. *Remove Duplicates:*\n",
    "#    - Develop a program that removes duplicates from a given list and prints the list without duplicates."
   ]
  },
  {
   "cell_type": "code",
   "execution_count": 7,
   "id": "8fd18eef-1b70-42e2-9ce5-1b2f93999a54",
   "metadata": {},
   "outputs": [
    {
     "name": "stdout",
     "output_type": "stream",
     "text": [
      "sum : 105\n",
      "avg : 21.0\n"
     ]
    }
   ],
   "source": [
    "# 1. *Sum and Average:*\n",
    "#    - Write a program that takes a list of numbers as input and calculates their sum and average.\n",
    "\n",
    "my_list = [40,30,20,10,5]\n",
    "for value in my_list:\n",
    "    _sum = sum(my_list)\n",
    "    avg = _sum / len(my_list)\n",
    "print('sum :',_sum)\n",
    "print('avg :',avg)"
   ]
  },
  {
   "cell_type": "code",
   "execution_count": 2,
   "id": "d678a3ef-532c-4212-a856-29026e6a8f4d",
   "metadata": {},
   "outputs": [
    {
     "name": "stdout",
     "output_type": "stream",
     "text": [
      "Maximum number: 12\n",
      "Minimum number: 1\n"
     ]
    }
   ],
   "source": [
    "# 2. *Find Maximum and Minimum:*\n",
    "#    - Create a program that prompts the user for a list of numbers and then finds the maximum and minimum values in the list.\n",
    "\n",
    "numbers = [3, 7, 1, 12, 5, 8]\n",
    "\n",
    "max_number = max(numbers)\n",
    "min_number = min(numbers)\n",
    "\n",
    "print(\"Maximum number:\", max_number)\n",
    "print(\"Minimum number:\", min_number)"
   ]
  },
  {
   "cell_type": "code",
   "execution_count": null,
   "id": "e77d5c27-0817-49e5-8c92-c71527152d4b",
   "metadata": {},
   "outputs": [],
   "source": [
    "# 3. *Element Frequency:*\n",
    "#    - Write a program that takes a list of words as input and counts the frequency of each word in a dictionary.\n",
    "\n"
   ]
  },
  {
   "cell_type": "code",
   "execution_count": 10,
   "id": "b6d0acd5-a74b-41ad-8c58-a00a52b7c0b2",
   "metadata": {},
   "outputs": [
    {
     "name": "stdout",
     "output_type": "stream",
     "text": [
      "Orignal List : [1, 2, 3, 4, 5, 6, 7]\n",
      "Reversed List : [7, 6, 5, 4, 3, 2, 1]\n"
     ]
    }
   ],
   "source": [
    "# 4. *List Reversal:*\n",
    "#    - Implement a program that reverses the elements of a given list and prints the reversed list.\n",
    "\n",
    "list1 = [1, 2, 3, 4, 5, 6, 7]\n",
    "reversed_list = list(reversed(list1))\n",
    "print('Orignal List :',list1)\n",
    "print('Reversed List :',reversed_list)"
   ]
  },
  {
   "cell_type": "code",
   "execution_count": 13,
   "id": "5b50d528-f8ac-4d20-93d2-de4593ea49ac",
   "metadata": {},
   "outputs": [
    {
     "name": "stdout",
     "output_type": "stream",
     "text": [
      "List one : [1, 2, 3, 4, 5, 6]\n",
      "List two : [7, 8, 9, 10, 11]\n",
      "Merges List [1, 2, 3, 4, 5, 6, 7, 8, 9, 10, 11]\n"
     ]
    }
   ],
   "source": [
    "# 5. *Merge Lists:*\n",
    "#    - Create a program that takes two lists as input and merges them into a single list.\n",
    "\n",
    "list_1 = [1,2,3,4,5,6]\n",
    "list_2 = [7,8,9,10,11]\n",
    "merg_list = list_1 + list_2\n",
    "print('List one :',list_1)\n",
    "print('List two :',list_2)\n",
    "print('Merges List',merg_list)"
   ]
  },
  {
   "cell_type": "code",
   "execution_count": 21,
   "id": "95bc8cc1-d8cc-4952-a4b5-4de7f6753f4a",
   "metadata": {},
   "outputs": [
    {
     "name": "stdout",
     "output_type": "stream",
     "text": [
      "{1, 5, 6}\n"
     ]
    }
   ],
   "source": [
    "# 6. *Common Elements:*\n",
    "#    - Write a program that finds and prints the common elements between two lists.\n",
    "\n",
    "list_3 = [1,2,3,4,5,6]\n",
    "list_4 = [7,1,6,5,11]\n",
    "common_elements = set(list_3) & set(list_4)\n",
    "print(common_elements)"
   ]
  },
  {
   "cell_type": "code",
   "execution_count": 22,
   "id": "9c653e7e-1b76-428a-9af9-b7133edbb32c",
   "metadata": {},
   "outputs": [
    {
     "data": {
      "text/plain": [
       "{'nil': 89, 'kal': 78, 'mohit': 90}"
      ]
     },
     "execution_count": 22,
     "metadata": {},
     "output_type": "execute_result"
    }
   ],
   "source": [
    "# 7. *Dictionary Creation:*\n",
    "#    - Implement a program that takes two lists, one for keys and one for values, and creates a dictionary.\n",
    "\n",
    "name = ['nil','kal','mohit']\n",
    "marks = [89,78,90]\n",
    "o_dic = {}\n",
    "for i in range(len(name)):\n",
    "    n1 = name[i]\n",
    "    m1 = marks[i]\n",
    "    o_dic[n1] = m1\n",
    "o_dic"
   ]
  },
  {
   "cell_type": "code",
   "execution_count": 25,
   "id": "8988fa19-815c-4dcb-bba7-99bcd26699d9",
   "metadata": {},
   "outputs": [
    {
     "name": "stdout",
     "output_type": "stream",
     "text": [
      "Orignal [11, 1, 2, 3, 44, 55, 1, 2, 3, 44]\n",
      "Remove Duplicates : {1, 2, 3, 11, 44, 55}\n"
     ]
    }
   ],
   "source": [
    "# 8. *Remove Duplicates:*\n",
    "#    - Develop a program that removes duplicates from a given list and prints the list without duplicates.\n",
    "\n",
    "list2 = [11,1,2,3,44,55,1,2,3,44]\n",
    "re = set(list2)\n",
    "print('Orignal',list2)\n",
    "print('Remove Duplicates :',re)"
   ]
  }
 ],
 "metadata": {
  "kernelspec": {
   "display_name": "Python 3 (ipykernel)",
   "language": "python",
   "name": "python3"
  },
  "language_info": {
   "codemirror_mode": {
    "name": "ipython",
    "version": 3
   },
   "file_extension": ".py",
   "mimetype": "text/x-python",
   "name": "python",
   "nbconvert_exporter": "python",
   "pygments_lexer": "ipython3",
   "version": "3.12.1"
  }
 },
 "nbformat": 4,
 "nbformat_minor": 5
}
